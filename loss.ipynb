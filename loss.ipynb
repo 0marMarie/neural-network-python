{
 "cells": [
  {
   "cell_type": "code",
   "execution_count": 7,
   "metadata": {},
   "outputs": [
    {
     "name": "stdout",
     "output_type": "stream",
     "text": [
      "0.35667494393873245\n",
      "0.35667494393873245\n",
      "0.6931471805599453\n"
     ]
    }
   ],
   "source": [
    "import math\n",
    "\n",
    "softmax_output = [0.7, 0.2, 0.1]\n",
    "target_output  = [1.0, 0.0, 0.0]\n",
    "\n",
    "loss = (-math.log(softmax_output[0]) * target_output[0] +\n",
    "        -math.log(softmax_output[1]) * target_output[1] +\n",
    "        -math.log(softmax_output[2]) * target_output[2]) \n",
    "\n",
    "print(loss)\n",
    "\n",
    "## Simplified as:\n",
    "loss = -math.log(softmax_output[0])\n",
    "print(loss)\n",
    "\n",
    "## Try smaller outputs:\n",
    "loss = -math.log(.5)\n",
    "print(loss)\n",
    "\n",
    "## Note ==> When Confedence gets higher, loss gets lower"
   ]
  },
  {
   "cell_type": "code",
   "execution_count": null,
   "metadata": {},
   "outputs": [],
   "source": []
  }
 ],
 "metadata": {
  "kernelspec": {
   "display_name": "Python 3",
   "language": "python",
   "name": "python3"
  },
  "language_info": {
   "codemirror_mode": {
    "name": "ipython",
    "version": 3
   },
   "file_extension": ".py",
   "mimetype": "text/x-python",
   "name": "python",
   "nbconvert_exporter": "python",
   "pygments_lexer": "ipython3",
   "version": "3.7.4"
  }
 },
 "nbformat": 4,
 "nbformat_minor": 2
}
